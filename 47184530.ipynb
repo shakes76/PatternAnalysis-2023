{
  "nbformat": 4,
  "nbformat_minor": 0,
  "metadata": {
    "colab": {
      "provenance": [],
      "gpuType": "V100",
      "machine_shape": "hm",
      "authorship_tag": "ABX9TyO6tXVY3RaDbZos8OWoP9YG"
    },
    "kernelspec": {
      "name": "python3",
      "display_name": "Python 3"
    },
    "language_info": {
      "name": "python"
    },
    "accelerator": "GPU"
  },
  "cells": [
    {
      "cell_type": "code",
      "source": [
        "import os\n",
        "import zipfile\n",
        "import torch\n",
        "import numpy as np\n",
        "from torch import nn, optim\n",
        "from torch.utils.data import Dataset, DataLoader\n",
        "from PIL import Image\n",
        "import matplotlib.pyplot as plt\n",
        "import torch.nn.functional as F\n",
        "from google.colab import drive\n",
        "import zipfile"
      ],
      "metadata": {
        "id": "C1oCBoLsedJV"
      },
      "execution_count": 1,
      "outputs": []
    },
    {
      "cell_type": "code",
      "source": [
        "# Set device\n",
        "device = torch.device(\"cuda\" if torch.cuda.is_available() else \"cpu\")\n",
        "\n",
        "# Mount Google Drive\n",
        "drive.mount('/content/drive')\n",
        "\n",
        "zip_path = \"/content/drive/MyDrive/Colab_Notebooks_Course/image_process/A3/testgans/GAN_Dataset.zip\"\n",
        "extraction_path = \"/content/GAN_Dataset\"\n",
        "with zipfile.ZipFile(zip_path, 'r') as zip_ref:\n",
        "    zip_ref.extractall(extraction_path)\n",
        "\n",
        "parent_dir = \"/content/GAN_Dataset\"\n",
        "train_path = os.path.join(parent_dir, \"keras_png_slices_train\")\n",
        "test_path = os.path.join(parent_dir, \"keras_png_slices_test\")\n",
        "val_path = os.path.join(parent_dir, \"keras_png_slices_validate\")\n",
        "\n",
        "def load_images_from_folder(folder_path):\n",
        "        images = []\n",
        "        for filename in os.listdir(folder_path):\n",
        "            img = Image.open(os.path.join(folder_path, filename)).convert('L').resize((128, 128))\n",
        "            if img is not None:\n",
        "                images.append(torch.tensor(np.array(img, dtype=np.float32)))\n",
        "        return torch.stack(images)\n",
        "\n",
        "train_images = load_images_from_folder(train_path)\n",
        "test_images = load_images_from_folder(test_path)\n",
        "validate_images = load_images_from_folder(val_path)\n"
      ],
      "metadata": {
        "id": "4cFXg40HfDzG"
      },
      "execution_count": 3,
      "outputs": []
    },
    {
      "cell_type": "code",
      "source": [],
      "metadata": {
        "id": "7hS9rkMYiCvW"
      },
      "execution_count": null,
      "outputs": []
    },
    {
      "cell_type": "code",
      "source": [],
      "metadata": {
        "id": "VinNRMXdfGcr"
      },
      "execution_count": null,
      "outputs": []
    }
  ]
}