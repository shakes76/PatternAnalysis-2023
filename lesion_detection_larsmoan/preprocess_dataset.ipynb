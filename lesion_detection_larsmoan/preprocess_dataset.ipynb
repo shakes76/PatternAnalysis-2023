{
 "cells": [
  {
   "cell_type": "code",
   "execution_count": 1,
   "metadata": {},
   "outputs": [],
   "source": [
    "from dataset_utils import *\n",
    "from utils import get_data_dir"
   ]
  },
  {
   "cell_type": "code",
   "execution_count": null,
   "metadata": {},
   "outputs": [],
   "source": [
    "#Use this function on the corresponding folders with superpixels, as they are not needed for our yolo model\n",
    "# train/\n",
    "# val/\n",
    "# test/ \n",
    "remove_superpixels(get_data_dir() / 'ISIC_2017/test')"
   ]
  },
  {
   "cell_type": "code",
   "execution_count": null,
   "metadata": {},
   "outputs": [],
   "source": [
    "#Compute the yolo labels and place them in the same folder as the images\n",
    "create_yolo_labels(\n",
    "    get_data_dir() / 'ISIC_2017_orig/train_seg', \n",
    "    get_data_dir() / 'ISIC_2017_orig/train_labels.csv', \n",
    "    get_data_dir() / 'ISIC_2017_orig/train_data')"
   ]
  },
  {
   "cell_type": "code",
   "execution_count": null,
   "metadata": {},
   "outputs": [],
   "source": [
    "visualize_labels(get_data_dir() / 'ISIC_2017/test')"
   ]
  },
  {
   "cell_type": "code",
   "execution_count": 4,
   "metadata": {},
   "outputs": [
    {
     "name": "stderr",
     "output_type": "stream",
     "text": [
      "Downsampling images:   0%|          | 0/301 [00:00<?, ?it/s]"
     ]
    },
    {
     "name": "stderr",
     "output_type": "stream",
     "text": [
      "Downsampling images: 100%|██████████| 301/301 [00:34<00:00,  8.62it/s]\n",
      "Copying label files: 100%|██████████| 301/301 [00:00<00:00, 1732.98it/s]\n"
     ]
    }
   ],
   "source": [
    "#To create downsampled versions of the dataset, use the following functionality\n",
    "downsample_images(get_data_dir() / 'ISIC_2017/val', get_data_dir() / 'ISIC_2017/val_downsampled', 2)\n",
    "copy_txt_files(get_data_dir() / 'ISIC_2017/val', get_data_dir() / 'ISIC_2017/val_downsampled')"
   ]
  }
 ],
 "metadata": {
  "kernelspec": {
   "display_name": "comp3710-env",
   "language": "python",
   "name": "python3"
  },
  "language_info": {
   "codemirror_mode": {
    "name": "ipython",
    "version": 3
   },
   "file_extension": ".py",
   "mimetype": "text/x-python",
   "name": "python",
   "nbconvert_exporter": "python",
   "pygments_lexer": "ipython3",
   "version": "3.11.4"
  }
 },
 "nbformat": 4,
 "nbformat_minor": 2
}
