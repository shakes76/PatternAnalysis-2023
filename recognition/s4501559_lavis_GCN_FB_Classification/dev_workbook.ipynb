{
 "cells": [
  {
   "cell_type": "code",
   "execution_count": null,
   "metadata": {},
   "outputs": [],
   "source": [
    "import torch\n",
    "import numpy as np\n",
    "import csv\n",
    "import pandas as pd\n",
    "\n",
    "import json\n",
    "\n",
    "from torch_geometric.data import Data\n",
    "from torch_geometric.loader import NeighborLoader\n",
    "from torch_geometric.nn import GCNConv\n",
    "\n",
    "import torch.nn.functional as F\n",
    "from torch.optim import SGD\n",
    "from torch import nn\n",
    "\n",
    "from tqdm import tqdm\n",
    "\n",
    "from collections import defaultdict\n",
    "\n",
    "from sklearn.manifold import TSNE\n",
    "import pickle\n",
    "\n",
    "from torch.optim.lr_scheduler import ExponentialLR, StepLR\n"
   ]
  },
  {
   "cell_type": "code",
   "execution_count": null,
   "metadata": {},
   "outputs": [],
   "source": [
    "device = 'cuda' if torch.cuda.is_available() else 'cpu'"
   ]
  },
  {
   "cell_type": "code",
   "execution_count": null,
   "metadata": {},
   "outputs": [],
   "source": [
    "from dataset import Dataset\n",
    "from modules import GCN\n",
    "from train import train_model\n",
    "from predict import model_inference"
   ]
  },
  {
   "cell_type": "markdown",
   "metadata": {},
   "source": [
    "# Load Data"
   ]
  },
  {
   "cell_type": "code",
   "execution_count": null,
   "metadata": {},
   "outputs": [],
   "source": [
    "data = Dataset('datasets/facebook.npz', device=device)"
   ]
  },
  {
   "cell_type": "code",
   "execution_count": null,
   "metadata": {},
   "outputs": [],
   "source": [
    "dataloader = data.data_loader(batchsize=32)"
   ]
  },
  {
   "cell_type": "markdown",
   "metadata": {},
   "source": [
    "# Build Model"
   ]
  },
  {
   "cell_type": "markdown",
   "metadata": {},
   "source": [
    "# Train Model"
   ]
  },
  {
   "cell_type": "code",
   "execution_count": null,
   "metadata": {},
   "outputs": [],
   "source": [
    "gcn_model = GCN(data.graph.x.shape[1], 4, hidden_layers=[128]*2).to(device)\n",
    "\n",
    "optimizer = SGD(gcn_model.parameters(), lr=0.65)\n",
    "\n",
    "CELoss = torch.nn.CrossEntropyLoss()\n",
    "lr_schedular = ExponentialLR(optimizer, gamma=1)\n",
    "\n",
    "train_model(gcn_model, optimizer, CELoss, dataloader, lr_schedular=lr_schedular, epochs=400)"
   ]
  },
  {
   "cell_type": "code",
   "execution_count": null,
   "metadata": {},
   "outputs": [],
   "source": [
    "print(\"> Saving model to picle\")\n",
    "with open(\"models/gcn_model.pkl\", \"wb\") as file:\n",
    "    pickle.dump(gcn_model, file)\n",
    "    file.close()\n",
    "print(\"> Model Saved Sucessfully\")"
   ]
  },
  {
   "cell_type": "code",
   "execution_count": null,
   "metadata": {},
   "outputs": [],
   "source": [
    "logits = gcn_model(data.graph)\n",
    "CELoss(logits[data.graph.test_mask], data.graph.y[data.graph.test_mask])"
   ]
  },
  {
   "cell_type": "code",
   "execution_count": null,
   "metadata": {},
   "outputs": [],
   "source": [
    "prediction = model_inference(gcn_model, data.graph)\n",
    "\n",
    "print(\"> Inference Complete\")\n",
    "accuracy = (prediction == data.graph.y).sum()/len(data.graph.y)\n",
    "test_accuracy = (prediction[data.graph.test_mask] == data.graph.y[data.graph.test_mask]).sum()/len(data.graph.y[data.graph.test_mask])\n",
    "\n",
    "print(\"> Model Results\")\n",
    "print(f\"\\tTest Accuracy: {test_accuracy}\")\n",
    "print(f\"\\tFull graph Accuracy: {accuracy}\")"
   ]
  },
  {
   "cell_type": "code",
   "execution_count": null,
   "metadata": {},
   "outputs": [],
   "source": [
    "for i in data.graph.y.unique():\n",
    "    filt = (data.graph.test_mask) & (data.graph.y == i)\n",
    "    class_acc = (prediction[filt] == data.graph.y[filt]).sum()/len(data.graph.y[filt])\n",
    "    print(i.to('cpu').detach().numpy(), class_acc.to('cpu').detach().numpy())"
   ]
  },
  {
   "cell_type": "code",
   "execution_count": null,
   "metadata": {},
   "outputs": [],
   "source": []
  }
 ],
 "metadata": {
  "kernelspec": {
   "display_name": "venv",
   "language": "python",
   "name": "python3"
  },
  "language_info": {
   "codemirror_mode": {
    "name": "ipython",
    "version": 3
   },
   "file_extension": ".py",
   "mimetype": "text/x-python",
   "name": "python",
   "nbconvert_exporter": "python",
   "pygments_lexer": "ipython3",
   "version": "3.10.12"
  },
  "orig_nbformat": 4
 },
 "nbformat": 4,
 "nbformat_minor": 2
}
